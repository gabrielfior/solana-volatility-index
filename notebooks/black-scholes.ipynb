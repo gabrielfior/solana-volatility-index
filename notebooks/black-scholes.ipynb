{
 "cells": [
  {
   "cell_type": "markdown",
   "id": "7f86014d",
   "metadata": {},
   "source": [
    "We based most of the calculations on the Python_Option_Pricing repository\n",
    "https://github.com/dedwards25/Python_Option_Pricing/blob/master/GBS.ipynb"
   ]
  },
  {
   "cell_type": "code",
   "execution_count": 21,
   "id": "0c60ccab",
   "metadata": {},
   "outputs": [],
   "source": [
    "# import necessary libaries\n",
    "import unittest\n",
    "import math\n",
    "import datetime\n",
    "import numpy as np\n",
    "from scipy.stats import norm\n",
    "from scipy.stats import mvn\n",
    "\n",
    "# Developer can toggle _DEBUG to True for more messages\n",
    "# normally this is set to False\n",
    "_DEBUG = False"
   ]
  },
  {
   "cell_type": "code",
   "execution_count": 85,
   "id": "30694b78",
   "metadata": {},
   "outputs": [],
   "source": [
    "_debug = print"
   ]
  },
  {
   "cell_type": "code",
   "execution_count": 4,
   "id": "c94a5cdb",
   "metadata": {},
   "outputs": [],
   "source": [
    "# Black Scholes: stock Options (no dividend yield)\n",
    "def black_scholes(option_type, fs, x, t, r, v):\n",
    "    b = r\n",
    "    return _gbs(option_type, fs, x, t, r, b, v)"
   ]
  },
  {
   "cell_type": "code",
   "execution_count": 56,
   "id": "d74facf7",
   "metadata": {},
   "outputs": [],
   "source": [
    "# Inputs: option_type = \"p\" or \"c\", fs = price of underlying, x = strike, t = time to expiration, r = risk free rate\n",
    "#         b = cost of carry, v = implied volatility\n",
    "# Outputs: value, delta, gamma, theta, vega, rho\n",
    "def _gbs(option_type, fs, x, t, r, b, v):\n",
    "    print(\"Debugging Information: _gbs()\")\n",
    "    # -----------\n",
    "    # Test Inputs (throwing an exception on failure)\n",
    "    _gbs_test_inputs(option_type, fs, x, t, r, b, v)\n",
    "\n",
    "    # -----------\n",
    "    # Create preliminary calculations\n",
    "    t__sqrt = math.sqrt(t)\n",
    "    d1 = (math.log(fs / x) + (b + (v * v) / 2) * t) / (v * t__sqrt)\n",
    "    d2 = d1 - v * t__sqrt\n",
    "\n",
    "    if option_type == \"c\":\n",
    "        # it's a call\n",
    "        print(\"     Call Option\")\n",
    "        value = fs * math.exp((b - r) * t) * norm.cdf(d1) - x * math.exp(-r * t) * norm.cdf(d2)\n",
    "        delta = math.exp((b - r) * t) * norm.cdf(d1)\n",
    "        gamma = math.exp((b - r) * t) * norm.pdf(d1) / (fs * v * t__sqrt)\n",
    "        theta = -(fs * v * math.exp((b - r) * t) * norm.pdf(d1)) / (2 * t__sqrt) - (b - r) * fs * math.exp(\n",
    "            (b - r) * t) * norm.cdf(d1) - r * x * math.exp(-r * t) * norm.cdf(d2)\n",
    "        vega = math.exp((b - r) * t) * fs * t__sqrt * norm.pdf(d1)\n",
    "        rho = x * t * math.exp(-r * t) * norm.cdf(d2)\n",
    "    else:\n",
    "        # it's a put\n",
    "        print(\"     Put Option\")\n",
    "        value = x * math.exp(-r * t) * norm.cdf(-d2) - (fs * math.exp((b - r) * t) * norm.cdf(-d1))\n",
    "        delta = -math.exp((b - r) * t) * norm.cdf(-d1)\n",
    "        gamma = math.exp((b - r) * t) * norm.pdf(d1) / (fs * v * t__sqrt)\n",
    "        theta = -(fs * v * math.exp((b - r) * t) * norm.pdf(d1)) / (2 * t__sqrt) + (b - r) * fs * math.exp(\n",
    "            (b - r) * t) * norm.cdf(-d1) + r * x * math.exp(-r * t) * norm.cdf(-d2)\n",
    "        vega = math.exp((b - r) * t) * fs * t__sqrt * norm.pdf(d1)\n",
    "        rho = -x * t * math.exp(-r * t) * norm.cdf(-d2)\n",
    "\n",
    "    print(\"     d1= {0}\\n     d2 = {1}\".format(d1, d2))\n",
    "    print(\"     delta = {0}\\n     gamma = {1}\\n     theta = {2}\\n     vega = {3}\\n     rho={4}\".format(delta, gamma,\n",
    "                                                                                                        theta, vega,\n",
    "                                                                                                        rho))\n",
    "    \n",
    "    return value, delta, gamma, theta, vega, rho"
   ]
  },
  {
   "cell_type": "code",
   "execution_count": 57,
   "id": "f35124f6",
   "metadata": {},
   "outputs": [],
   "source": [
    "class GBS_InputError(Exception):\n",
    "    def __init__(self, mismatch):\n",
    "        Exception.__init__(self, mismatch)\n",
    "\n",
    "class _GBS_Limits:\n",
    "    # An GBS model will return an error if an out-of-bound input is input\n",
    "    MAX32 = 2147483248.0\n",
    "\n",
    "    MIN_T = 1.0 / 1000.0  # requires some time left before expiration\n",
    "    MIN_X = 0.01\n",
    "    MIN_FS = 0.01\n",
    "\n",
    "    # Volatility smaller than 0.5% causes American Options calculations\n",
    "    # to fail (Number to large errors).\n",
    "    # GBS() should be OK with any positive number. Since vols less\n",
    "    # than 0.5% are expected to be extremely rare, and most likely bad inputs,\n",
    "    # _gbs() is assigned this limit too\n",
    "    MIN_V = 0.005\n",
    "\n",
    "    MAX_T = 100\n",
    "    MAX_X = MAX32\n",
    "    MAX_FS = MAX32\n",
    "\n",
    "    # Asian Option limits\n",
    "    # maximum TA is time to expiration for the option\n",
    "    MIN_TA = 0\n",
    "\n",
    "    # This model will work with higher values for b, r, and V. However, such values are extremely uncommon. \n",
    "    # To catch some common errors, interest rates and volatility is capped to 100%\n",
    "    # This reason for 1 (100%) is mostly to cause the library to throw an exceptions \n",
    "    # if a value like 15% is entered as 15 rather than 0.15)\n",
    "    MIN_b = -1\n",
    "    MIN_r = -1\n",
    "\n",
    "    MAX_b = 1\n",
    "    MAX_r = 1\n",
    "    MAX_V = 5\n",
    "      \n",
    "def _test_option_type(option_type):\n",
    "    if (option_type != \"c\") and (option_type != \"p\"):\n",
    "        raise GBS_InputError(\"Invalid Input option_type ({0}). Acceptable value are: c, p\".format(option_type))\n",
    "\n",
    "def _gbs_test_inputs(option_type, fs, x, t, r, b, v):\n",
    "    # -----------\n",
    "    # Test inputs are reasonable\n",
    "    _test_option_type(option_type)\n",
    "\n",
    "    if (x < _GBS_Limits.MIN_X) or (x > _GBS_Limits.MAX_X):\n",
    "        raise GBS_InputError(\n",
    "            \"Invalid Input Strike Price (X). Acceptable range for inputs is {1} to {2}\".format(x, _GBS_Limits.MIN_X,\n",
    "                                                                                               _GBS_Limits.MAX_X))\n",
    "\n",
    "    if (fs < _GBS_Limits.MIN_FS) or (fs > _GBS_Limits.MAX_FS):\n",
    "        raise GBS_InputError(\n",
    "            \"Invalid Input Forward/Spot Price (FS). Acceptable range for inputs is {1} to {2}\".format(fs,\n",
    "                                                                                                      _GBS_Limits.MIN_FS,\n",
    "                                                                                                      _GBS_Limits.MAX_FS))\n",
    "\n",
    "    if (t < _GBS_Limits.MIN_T) or (t > _GBS_Limits.MAX_T):\n",
    "        raise GBS_InputError(\n",
    "            \"Invalid Input Time (T = {0}). Acceptable range for inputs is {1} to {2}\".format(t, _GBS_Limits.MIN_T,\n",
    "                                                                                             _GBS_Limits.MAX_T))\n",
    "\n",
    "    if (b < _GBS_Limits.MIN_b) or (b > _GBS_Limits.MAX_b):\n",
    "        raise GBS_InputError(\n",
    "            \"Invalid Input Cost of Carry (b = {0}). Acceptable range for inputs is {1} to {2}\".format(b,\n",
    "                                                                                                      _GBS_Limits.MIN_b,\n",
    "                                                                                                      _GBS_Limits.MAX_b))\n",
    "\n",
    "    if (r < _GBS_Limits.MIN_r) or (r > _GBS_Limits.MAX_r):\n",
    "        raise GBS_InputError(\n",
    "            \"Invalid Input Risk Free Rate (r = {0}). Acceptable range for inputs is {1} to {2}\".format(r,\n",
    "                                                                                                       _GBS_Limits.MIN_r,\n",
    "                                                                                                       _GBS_Limits.MAX_r))\n",
    "\n",
    "    if (v < _GBS_Limits.MIN_V) or (v > _GBS_Limits.MAX_V):\n",
    "        raise GBS_InputError(\n",
    "            \"Invalid Input Implied Volatility (V = {0}). \\\n",
    "            Acceptable range for inputs is {1} to {2}\".format(v, _GBS_Limits.MIN_V, _GBS_Limits.MAX_V))"
   ]
  },
  {
   "cell_type": "code",
   "execution_count": 89,
   "id": "59f9af9c",
   "metadata": {},
   "outputs": [],
   "source": [
    "def convert_expiration_to_year(expiry_date):\n",
    "    expiry_date = datetime.datetime.strptime(expiry_date,'%Y-%m-%dT%H:%M:%S.%fZ')\n",
    "    time_diff_sec = (expiry_date - datetime.datetime.now()).total_seconds()\n",
    "    return time_diff_sec/(3600*24*365)"
   ]
  },
  {
   "cell_type": "code",
   "execution_count": 67,
   "id": "02d3867d",
   "metadata": {},
   "outputs": [
    {
     "name": "stdout",
     "output_type": "stream",
     "text": [
      "Debugging Information: _gbs()\n",
      "     Call Option\n",
      "     d1= 0.5156296959570099\n",
      "     d2 = 0.16207630536373613\n",
      "     delta = 0.6969434671865847\n",
      "     gamma = 0.009685478594141343\n",
      "     theta = -5.70233889678017\n",
      "     vega = 50.383859646723266\n",
      "     rho=102.13390675439865\n"
     ]
    },
    {
     "data": {
      "text/plain": [
       "20.02128027583231"
      ]
     },
     "execution_count": 67,
     "metadata": {},
     "output_type": "execute_result"
    }
   ],
   "source": [
    "black_scholes('c', 102, 100, 2, 0.05, 0.25)[0]"
   ]
  },
  {
   "cell_type": "code",
   "execution_count": 68,
   "id": "0065a8eb",
   "metadata": {},
   "outputs": [
    {
     "name": "stdout",
     "output_type": "stream",
     "text": [
      "Debugging Information: _gbs()\n",
      "     Call Option\n",
      "     d1= 2.1239599091048387\n",
      "     d2 = 1.9836199483631805\n",
      "     delta = 0.9831632519529994\n",
      "     gamma = 0.006979216813858741\n",
      "     theta = -6.882089520892481\n",
      "     vega = 0.2408108465795734\n",
      "     rho=0.5686267572669556\n"
     ]
    },
    {
     "data": {
      "text/plain": [
       "(10.728010804612246,\n",
       " 0.9831632519529994,\n",
       " 0.006979216813858741,\n",
       " -6.882089520892481,\n",
       " 0.2408108465795734,\n",
       " 0.5686267572669556)"
      ]
     },
     "execution_count": 68,
     "metadata": {},
     "output_type": "execute_result"
    }
   ],
   "source": [
    "'''\n",
    "{\"serumMarketAddress\":\"4raD3QLB9jKoUTzK48qfx2UdEaVHmc5xF8ZSaNK8vipk\",\n",
    "\"exchange\":\"SOL\",\"live\":true,\"strike\":32,\n",
    "\"expiryDate\":\"2022-08-19T08:00:00.000Z\",\"kind\":\"call\",\n",
    "\"markPrice\":\"11.282046\",\"delta\":\"0.01\",\"impliedVolatility\":\"1.040269\",\n",
    "\"vega\":0.21037926345480487,\"price\":42.694415,\n",
    "\"confidence\":0.010675,\"priceStatus\":1},\n",
    "'''\n",
    "underlying_price=42.69\n",
    "strike=32\n",
    "time_to_expiration=0.0182\n",
    "risk_free_rate=0.\n",
    "implied_volatility=1.040269\n",
    "black_scholes('c', underlying_price, strike, time_to_expiration, \n",
    "              risk_free_rate,implied_volatility)"
   ]
  },
  {
   "cell_type": "code",
   "execution_count": 69,
   "id": "75667eea",
   "metadata": {},
   "outputs": [
    {
     "name": "stdout",
     "output_type": "stream",
     "text": [
      "Debugging Information: _gbs()\n",
      "     Call Option\n",
      "     d1= 0.6449583314599002\n",
      "     d2 = 0.5047615074437878\n",
      "     delta = 0.7405229055368802\n",
      "     gamma = 9.69216665271147e-05\n",
      "     theta = -29760.74897797773\n",
      "     vega = 1042.4200571958545\n",
      "     rho=277.5319838112956\n"
     ]
    },
    {
     "data": {
      "text/plain": [
       "(2409.8434490617838,\n",
       " 0.7405229055368802,\n",
       " 9.69216665271147e-05,\n",
       " -29760.74897797773,\n",
       " 1042.4200571958545,\n",
       " 277.5319838112956)"
      ]
     },
     "execution_count": 69,
     "metadata": {},
     "output_type": "execute_result"
    }
   ],
   "source": [
    "#{\"serumMarketAddress\":\"6tFP43fEPZaW4Tf7QCpWDLzay6YgRQZ5Unt4bHqJpXeC\",\"exchange\":\"BTC\",\n",
    "#\"live\":true,\"strike\":22000,\"expiryDate\":\"2022-08-19T08:00:00.000Z\",\"kind\":\"put\",\"markPrice\":\"562.353902\",\n",
    "#\"delta\":\"0.26\",\"impliedVolatility\":\"1.039208\",\"vega\":1048.6306910377161,\"price\":23846.465,\n",
    "#\"confidence\":13.84915651,\"priceStatus\":1},\n",
    "underlying_price=23846.465\n",
    "strike=22000\n",
    "time_to_expiration=0.0182\n",
    "risk_free_rate=0.\n",
    "implied_volatility=1.039208\n",
    "black_scholes('c', underlying_price, strike, time_to_expiration, \n",
    "              risk_free_rate,implied_volatility)"
   ]
  },
  {
   "cell_type": "code",
   "execution_count": 55,
   "id": "1646a5a3",
   "metadata": {},
   "outputs": [],
   "source": [
    "# 7 day chart, 1-day\n",
    "# delta vs underlying price\n",
    "# plot greeks vs underlying_price"
   ]
  },
  {
   "cell_type": "code",
   "execution_count": 72,
   "id": "9eac4612",
   "metadata": {},
   "outputs": [
    {
     "data": {
      "text/plain": [
       "0.016043683853025112"
      ]
     },
     "execution_count": 72,
     "metadata": {},
     "output_type": "execute_result"
    }
   ],
   "source": [
    "str1 = \"2022-08-19T08:00:00.000Z\"\n",
    "convert_s_to_year(str1)"
   ]
  },
  {
   "cell_type": "code",
   "execution_count": 77,
   "id": "83b31588",
   "metadata": {},
   "outputs": [],
   "source": [
    "def get_interest_free_rate(symbol):\n",
    "    \"\"\" Values from solend \"\"\"\n",
    "    allowed_symbols =  ['ETH','BTC','SOL']\n",
    "    if symbol not in allowed_symbols:\n",
    "        raise Exception(f\"Symbol {symbol} not in {allowed_symbols}\")\n",
    "    \n",
    "    interest_free_rates = {\n",
    "        'BTC':0.04/100,\n",
    "        'ETH':0.85/100,\n",
    "        'SOL':2.43/100 #2%\n",
    "    }\n",
    "    return interest_free_rates.get(symbol)"
   ]
  },
  {
   "cell_type": "code",
   "execution_count": 78,
   "id": "3dcf894b",
   "metadata": {},
   "outputs": [
    {
     "data": {
      "text/plain": [
       "0.024300000000000002"
      ]
     },
     "execution_count": 78,
     "metadata": {},
     "output_type": "execute_result"
    }
   ],
   "source": [
    "get_interest_free_rate('SOL')"
   ]
  },
  {
   "cell_type": "markdown",
   "id": "dd131d04",
   "metadata": {},
   "source": [
    "## Implied volatility"
   ]
  },
  {
   "cell_type": "code",
   "execution_count": 98,
   "id": "ee8a522b",
   "metadata": {},
   "outputs": [],
   "source": [
    "def euro_implied_vol(option_type, fs, x, t, r, q, cp):\n",
    "    b = r - q\n",
    "    return _gbs_implied_vol(option_type, fs, x, t, r, b, cp)\n",
    "\n",
    "def euro_implied_vol_76(option_type, fs, x, t, r, cp):\n",
    "    b = 0\n",
    "    return _gbs_implied_vol(option_type, fs, x, t, r, b, cp)\n",
    "\n",
    "def _gbs_implied_vol(option_type, fs, x, t, r, b, cp, precision=.00001, max_steps=100):\n",
    "    return _newton_implied_vol(_gbs, option_type, x, fs, t, b, r, cp, precision, max_steps)\n",
    "\n",
    "def _approx_implied_vol(option_type, fs, x, t, r, b, cp):\n",
    "    _test_option_type(option_type)\n",
    "\n",
    "    ebrt = math.exp((b - r) * t)\n",
    "    ert = math.exp(-r * t)\n",
    "\n",
    "    a = math.sqrt(2 * math.pi) / (fs * ebrt + x * ert)\n",
    "\n",
    "    if option_type == \"c\":\n",
    "        payoff = fs * ebrt - x * ert\n",
    "    else:\n",
    "        payoff = x * ert - fs * ebrt\n",
    "\n",
    "    b = cp - payoff / 2\n",
    "    c = (payoff ** 2) / math.pi\n",
    "\n",
    "    v = (a * (b + math.sqrt(b ** 2 + c))) / math.sqrt(t)\n",
    "\n",
    "    return v\n",
    "\n",
    "def _newton_implied_vol(val_fn, option_type, x, fs, t, b, r, cp, precision=.00001, max_steps=100):\n",
    "    # make sure a valid option type was entered\n",
    "    _test_option_type(option_type)\n",
    "\n",
    "    # Estimate starting Vol, making sure it is allowable range\n",
    "    v = _approx_implied_vol(option_type, fs, x, t, r, b, cp)\n",
    "    v = max(_GBS_Limits.MIN_V, v)\n",
    "    v = min(_GBS_Limits.MAX_V, v)\n",
    "\n",
    "    # Calculate the value at the estimated vol\n",
    "    value, delta, gamma, theta, vega, rho = val_fn(option_type, fs, x, t, r, b, v)\n",
    "    min_diff = abs(cp - value)\n",
    "\n",
    "    _debug(\"-----\")\n",
    "    _debug(\"Debug info for: _Newton_ImpliedVol()\")\n",
    "    _debug(\"    Vinitial={0}\".format(v))\n",
    "\n",
    "    # Newton-Raphson Search\n",
    "    countr = 0\n",
    "    while precision <= abs(cp - value) <= min_diff and countr < max_steps:\n",
    "\n",
    "        v = v - (value - cp) / vega\n",
    "        if (v > _GBS_Limits.MAX_V) or (v < _GBS_Limits.MIN_V):\n",
    "            _debug(\"    Volatility out of bounds\")\n",
    "            break\n",
    "\n",
    "        value, delta, gamma, theta, vega, rho = val_fn(option_type, fs, x, t, r, b, v)\n",
    "        min_diff = min(abs(cp - value), min_diff)\n",
    "\n",
    "        # keep track of how many loops\n",
    "        countr += 1\n",
    "        _debug(\"     IVOL STEP {0}. v={1}\".format(countr, v))\n",
    "\n",
    "    \n",
    "    # check if function converged and return a value\n",
    "    if abs(cp - value) < precision:\n",
    "        # the search function converged\n",
    "        return v\n",
    "    else:\n",
    "        # if the search function didn't converge, try a bisection search\n",
    "        return _bisection_implied_vol(val_fn, option_type, fs, x, t, r, b, cp, precision, max_steps)"
   ]
  },
  {
   "cell_type": "code",
   "execution_count": 87,
   "id": "eecc803a",
   "metadata": {},
   "outputs": [
    {
     "name": "stdout",
     "output_type": "stream",
     "text": [
      "Debugging Information: _gbs()\n",
      "     Call Option\n",
      "     d1= -0.5085315120480228\n",
      "     d2 = -0.7484985492404215\n",
      "     delta = 0.30548863872489856\n",
      "     gamma = 0.01579875561031792\n",
      "     theta = -44.33842839475904\n",
      "     vega = 9.594378742128885\n",
      "     rho=2.1397868562025115\n",
      "-----\n",
      "Debug info for: _Newton_ImpliedVol()\n",
      "    Vinitial=0.8104440394140772\n",
      "Debugging Information: _gbs()\n",
      "     Call Option\n",
      "     d1= -1.1278514382800449\n",
      "     d2 = -1.2544698666367133\n",
      "     delta = 0.12966939465866084\n",
      "     gamma = 0.018038933606590198\n",
      "     theta = -14.095763841775183\n",
      "     vega = 5.7802971721916245\n",
      "     rho=0.987872832356922\n",
      "     IVOL STEP 1. v=0.4276301934726342\n",
      "Debugging Information: _gbs()\n",
      "     Call Option\n",
      "     d1= -1.4889354959825585\n",
      "     d2 = -1.5870017928994267\n",
      "     delta = 0.0682406323735424\n",
      "     gamma = 0.014521447458357229\n",
      "     theta = -6.806814032955107\n",
      "     vega = 3.6038945243829756\n",
      "     rho=0.5301049726676658\n",
      "     IVOL STEP 2. v=0.3312006796165272\n",
      "Debugging Information: _gbs()\n",
      "     Call Option\n",
      "     d1= -1.6332292646335032\n",
      "     d2 = -1.7231029018385584\n",
      "     delta = 0.051201731077970186\n",
      "     gamma = 0.012649419543272004\n",
      "     theta = -4.980040894289151\n",
      "     vega = 2.877036045165505\n",
      "     rho=0.39986730532134435\n",
      "     IVOL STEP 3. v=0.3035314950982257\n",
      "Debugging Information: _gbs()\n",
      "     Call Option\n",
      "     d1= -1.6531709352672403\n",
      "     d2 = -1.74201605063832\n",
      "     delta = 0.0491397262536538\n",
      "     gamma = 0.012383355205753798\n",
      "     theta = -4.764348616970557\n",
      "     vega = 2.784288759130636\n",
      "     rho=0.3840163821660226\n",
      "     IVOL STEP 4. v=0.30005785388689316\n",
      "Debugging Information: _gbs()\n",
      "     Call Option\n",
      "     d1= -1.6535067816619533\n",
      "     d2 = -1.7423347716415574\n",
      "     delta = 0.049105575607368224\n",
      "     gamma = 0.012378867130533436\n",
      "     theta = -4.760786092287931\n",
      "     vega = 2.7827431621225975\n",
      "     rho=0.3837536985723267\n",
      "     IVOL STEP 5. v=0.30000001606213883\n"
     ]
    },
    {
     "data": {
      "text/plain": [
       "0.30000001606213883"
      ]
     },
     "execution_count": 87,
     "metadata": {},
     "output_type": "execute_result"
    }
   ],
   "source": [
    "_gbs_implied_vol('c', 92.45, 107.5, 0.0876712328767123, 0.00192960198828152, 0, 0.162619795863781)"
   ]
  },
  {
   "cell_type": "code",
   "execution_count": 103,
   "id": "8819ad48",
   "metadata": {},
   "outputs": [
    {
     "name": "stdout",
     "output_type": "stream",
     "text": [
      "Debugging Information: _gbs()\n",
      "     Call Option\n",
      "     d1= 0.8392115604541077\n",
      "     d2 = 0.3561386578744979\n",
      "     delta = 0.7993246994051226\n",
      "     gamma = 0.013601747925972347\n",
      "     theta = -181.47143611529282\n",
      "     vega = 1.5142820682711198\n",
      "     rho=0.3268030413615694\n",
      "-----\n",
      "Debug info for: _Newton_ImpliedVol()\n",
      "    Vinitial=3.8208099028787905\n",
      "Debugging Information: _gbs()\n",
      "     Call Option\n",
      "     d1= 1.162779647607471\n",
      "     d2 = 0.8801222695301969\n",
      "     delta = 0.8775405416521449\n",
      "     gamma = 0.016814475778469003\n",
      "     theta = -77.22529388196585\n",
      "     vega = 1.0953250970296033\n",
      "     rho=0.4144806198278293\n",
      "     IVOL STEP 1. v=2.235646221330793\n",
      "Debugging Information: _gbs()\n",
      "     Call Option\n",
      "     d1= 1.2667010006627222\n",
      "     d2 = 1.0134545502945713\n",
      "     delta = 0.8973688889584979\n",
      "     gamma = 0.01654154458528399\n",
      "     theta = -61.14326556415309\n",
      "     vega = 0.9654255922533203\n",
      "     rho=0.4318528318956922\n",
      "     IVOL STEP 2. v=2.003023850579307\n",
      "Debugging Information: _gbs()\n",
      "     Call Option\n",
      "     d1= 1.2744070633881097\n",
      "     d2 = 1.023069921191282\n",
      "     delta = 0.8987404048230205\n",
      "     gamma = 0.016504812315554104\n",
      "     theta = -60.104120171057446\n",
      "     vega = 0.9560192638218182\n",
      "     rho=0.4330207734038602\n",
      "     IVOL STEP 3. v=1.987922395851289\n",
      "Debugging Information: _gbs()\n",
      "     Call Option\n",
      "     d1= 1.2744452141914822\n",
      "     d2 = 1.0231174440934936\n",
      "     delta = 0.8987471614736009\n",
      "     gamma = 0.016504625304992766\n",
      "     theta = -60.09902212712734\n",
      "     vega = 0.9559727829309042\n",
      "     rho=0.4330265174284045\n",
      "     IVOL STEP 4. v=1.9878482683068446\n",
      "normal 1.9878482683068446\n"
     ]
    }
   ],
   "source": [
    "item = {\"serumMarketAddress\":\"4raD3QLB9jKoUTzK48qfx2UdEaVHmc5xF8ZSaNK8vipk\",\n",
    "\"exchange\":\"SOL\",\"live\":True,\"strike\":32,\n",
    "\"expiryDate\":\"2022-08-19T08:00:00.000Z\",\"kind\":\"call\",\n",
    "\"markPrice\":\"11.282046\",\"delta\":\"0.01\",\"impliedVolatility\":\"1.040269\",\n",
    "\"vega\":0.21037926345480487,\"price\":42.694415,\n",
    "\"confidence\":0.010675,\"priceStatus\":1}\n",
    "\n",
    "#    option_type = \"p\" or \"c\"\n",
    "#    fs          = price of underlying\n",
    "#    x           = strike\n",
    "#    t           = time to expiration\n",
    "#    v           = implied volatility\n",
    "#    r           = risk free rate\n",
    "#    q           = dividend payment\n",
    "#    b           = cost of carry\n",
    "# cp = Call or Put price\n",
    "#def euro_implied_vol(option_type, fs, x, t, r, q, cp):\n",
    "risk_free_rate = get_interest_free_rate(item['exchange'])\n",
    "time_to_expiry = convert_expiration_to_year(item['expiryDate'] )\n",
    "print('normal',euro_implied_vol('c',item['price'], item['strike'], time_to_expiry, risk_free_rate, 0., float(item['markPrice'])))\n",
    "#print('76', euro_implied_vol_76('c',item['price'], item['strike'], time_to_expiry, risk_free_rate, float(item['markPrice'])))"
   ]
  },
  {
   "cell_type": "code",
   "execution_count": 107,
   "id": "682f1026",
   "metadata": {},
   "outputs": [],
   "source": [
    "def get_implied_volatility_from_item(item):\n",
    "    #    option_type = \"p\" or \"c\"\n",
    "    #    fs          = price of underlying\n",
    "    #    x           = strike\n",
    "    #    t           = time to expiration\n",
    "    #    v           = implied volatility\n",
    "    #    r           = risk free rate\n",
    "    #    q           = dividend payment\n",
    "    #    b           = cost of carry\n",
    "    # cp = Call or Put price\n",
    "    #def euro_implied_vol(option_type, fs, x, t, r, q, cp):\n",
    "    risk_free_rate = get_interest_free_rate(item['exchange'])\n",
    "    time_to_expiry = convert_expiration_to_year(item['expiryDate'] )\n",
    "    implied_vol = euro_implied_vol('c',item['price'], item['strike'], time_to_expiry, risk_free_rate, 0., float(item['markPrice']))\n",
    "    #print('76', euro_implied_vol_76('c',item['price'], item['strike'], time_to_expiry, risk_free_rate, float(item['markPrice'])))\n",
    "    return implied_vol"
   ]
  },
  {
   "cell_type": "code",
   "execution_count": 110,
   "id": "d5f04052",
   "metadata": {},
   "outputs": [
    {
     "data": {
      "text/plain": [
       "dict_keys(['serumMarketAddress', 'exchange', 'live', 'strike', 'expiryDate', 'kind', 'markPrice', 'delta', 'impliedVolatility', 'vega', 'price', 'confidence', 'priceStatus'])"
      ]
     },
     "execution_count": 110,
     "metadata": {},
     "output_type": "execute_result"
    }
   ],
   "source": [
    "item.keys()"
   ]
  },
  {
   "cell_type": "code",
   "execution_count": 129,
   "id": "72175003",
   "metadata": {},
   "outputs": [
    {
     "data": {
      "text/plain": [
       "False"
      ]
     },
     "execution_count": 129,
     "metadata": {},
     "output_type": "execute_result"
    }
   ],
   "source": [
    "{\"confidence\", \"price2\"} < item.keys()"
   ]
  },
  {
   "cell_type": "code",
   "execution_count": 113,
   "id": "2c02c5c0",
   "metadata": {},
   "outputs": [
    {
     "data": {
      "text/plain": [
       "'call'"
      ]
     },
     "execution_count": 113,
     "metadata": {},
     "output_type": "execute_result"
    }
   ],
   "source": [
    "item['kind']"
   ]
  },
  {
   "cell_type": "code",
   "execution_count": 115,
   "id": "afb2edaa",
   "metadata": {},
   "outputs": [
    {
     "data": {
      "text/plain": [
       "'p'"
      ]
     },
     "execution_count": 115,
     "metadata": {},
     "output_type": "execute_result"
    }
   ],
   "source": [
    "'c' if item['kind'] == 'call1' else 'p'"
   ]
  },
  {
   "cell_type": "code",
   "execution_count": 116,
   "id": "cd0e8d88",
   "metadata": {},
   "outputs": [
    {
     "data": {
      "text/plain": [
       "False"
      ]
     },
     "execution_count": 116,
     "metadata": {},
     "output_type": "execute_result"
    }
   ],
   "source": [
    "item['kind'] not in ['call','put']"
   ]
  },
  {
   "cell_type": "code",
   "execution_count": 118,
   "id": "38597924",
   "metadata": {},
   "outputs": [],
   "source": [
    "a = [{'a':1,'b':2},{'a':1,'b':3,'a':2,'b':4}]"
   ]
  },
  {
   "cell_type": "code",
   "execution_count": 120,
   "id": "d6d40d5c",
   "metadata": {},
   "outputs": [],
   "source": [
    "import itertools"
   ]
  },
  {
   "cell_type": "code",
   "execution_count": 126,
   "id": "8659575d",
   "metadata": {},
   "outputs": [
    {
     "name": "stdout",
     "output_type": "stream",
     "text": [
      "1 : [{'a': 1, 'b': 2}]\n",
      "2 : [{'a': 2, 'b': 4}]\n"
     ]
    }
   ],
   "source": [
    "for key, group in itertools.groupby(a,lambda x: x['a']):\n",
    "    print(str(key) + \" :\", list(group))"
   ]
  },
  {
   "cell_type": "code",
   "execution_count": null,
   "id": "4d09db04",
   "metadata": {},
   "outputs": [],
   "source": []
  }
 ],
 "metadata": {
  "kernelspec": {
   "display_name": "Python 3 (ipykernel)",
   "language": "python",
   "name": "python3"
  },
  "language_info": {
   "codemirror_mode": {
    "name": "ipython",
    "version": 3
   },
   "file_extension": ".py",
   "mimetype": "text/x-python",
   "name": "python",
   "nbconvert_exporter": "python",
   "pygments_lexer": "ipython3",
   "version": "3.8.13"
  }
 },
 "nbformat": 4,
 "nbformat_minor": 5
}
